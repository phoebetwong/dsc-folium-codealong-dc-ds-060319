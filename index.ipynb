{
 "cells": [
  {
   "cell_type": "markdown",
   "metadata": {},
   "source": [
    "# Folium - Codealong\n",
    "\n",
    "## Introduction \n",
    "\n",
    "In this codealong, we'll take a look at how to create an interactive map using the Folium package. From there, we'll return to APIs in the final lab for the day where you'll make an interactive map from your requests to the API!\n",
    "\n",
    "## Objectives\n",
    "\n",
    "You will be able to: \n",
    "* Create maps with Folium"
   ]
  },
  {
   "cell_type": "markdown",
   "metadata": {},
   "source": [
    "## Creating a Basemap\n",
    "\n",
    "Here we'll take a look at creating a basemap over the London region!"
   ]
  },
  {
   "cell_type": "code",
   "execution_count": 1,
   "metadata": {
    "scrolled": false
   },
   "outputs": [
    {
     "data": {
      "text/html": [
       "<div style=\"width:100%;\"><div style=\"position:relative;width:100%;height:0;padding-bottom:60%;\"><iframe src=\"data:text/html;charset=utf-8;base64,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\" style=\"position:absolute;width:100%;height:100%;left:0;top:0;border:none !important;\" allowfullscreen webkitallowfullscreen mozallowfullscreen></iframe></div></div>"
      ],
      "text/plain": [
       "<folium.folium.Map at 0x7f47a0a86cc0>"
      ]
     },
     "execution_count": 1,
     "metadata": {},
     "output_type": "execute_result"
    }
   ],
   "source": [
    "import folium\n",
    "\n",
    "lat = 51.51\n",
    "long = -0.14\n",
    "\n",
    "#Create a map of the area\n",
    "base_map = folium.Map([lat, long], zoom_start=13)\n",
    "base_map"
   ]
  },
  {
   "cell_type": "markdown",
   "metadata": {},
   "source": [
    "## Adding Markers to the Map\n",
    "\n",
    "Great! Now let's take a look at adding little markers to our map!\n",
    "\n",
    "**Note:** you may have to zoom out to see all of the markers!"
   ]
  },
  {
   "cell_type": "code",
   "execution_count": 2,
   "metadata": {},
   "outputs": [
    {
     "data": {
      "text/html": [
       "<div style=\"width:100%;\"><div style=\"position:relative;width:100%;height:0;padding-bottom:60%;\"><iframe src=\"data:text/html;charset=utf-8;base64,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\" style=\"position:absolute;width:100%;height:100%;left:0;top:0;border:none !important;\" allowfullscreen webkitallowfullscreen mozallowfullscreen></iframe></div></div>"
      ],
      "text/plain": [
       "<folium.folium.Map at 0x7f47a0a86cc0>"
      ]
     },
     "execution_count": 2,
     "metadata": {},
     "output_type": "execute_result"
    }
   ],
   "source": [
    "import numpy as np\n",
    "\n",
    "#Generate some random locations to add to our map\n",
    "x = [lat + np.random.uniform(-.1,.1) for i in range(20)]\n",
    "y = [long + np.random.uniform(-.1,.1) for i in range(20)]\n",
    "points = list(zip(x, y))\n",
    "for p in points:\n",
    "    lat = p[0]\n",
    "    long = p[1]\n",
    "    marker = folium.Marker(location=[lat, long])\n",
    "    marker.add_to(base_map)\n",
    "base_map"
   ]
  },
  {
   "cell_type": "markdown",
   "metadata": {},
   "source": [
    "## Adding Pop-up Boxes to Our Markers\n",
    "\n",
    "Often we may wish to not only place markers on the map, but to create interactive pop-ups which display information to that location. To do this, we can add a popup to our markers when adding them to the map! "
   ]
  },
  {
   "cell_type": "code",
   "execution_count": null,
   "metadata": {},
   "outputs": [],
   "source": [
    "for p in points:\n",
    "    lat = p[0]\n",
    "    long = p[1]\n",
    "    popup_text = \"Latitude: {}, Longitude: {}\".format(lat,long)\n",
    "    popup = folium.Popup(popup_text, parse_html=True)\n",
    "    marker = folium.Marker(location=[lat, long], popup=popup)\n",
    "    marker.add_to(base_map)\n",
    "base_map"
   ]
  },
  {
   "cell_type": "markdown",
   "metadata": {},
   "source": [
    "Now, if you click on the map markers, you should see a little information box pop up!\n",
    "\n",
    "## Summary \n",
    "\n",
    "In this codealong, we learned how to use Folium to create some cool interactive maps with only a few lines of python code! In the next lab, you'll synthesize your skills for the day together and create an interactive visualization map for data you retrieve from the Yelp API!"
   ]
  }
 ],
 "metadata": {
  "kernelspec": {
   "display_name": "Python 3",
   "language": "python",
   "name": "python3"
  },
  "language_info": {
   "codemirror_mode": {
    "name": "ipython",
    "version": 3
   },
   "file_extension": ".py",
   "mimetype": "text/x-python",
   "name": "python",
   "nbconvert_exporter": "python",
   "pygments_lexer": "ipython3",
   "version": "3.6.6"
  }
 },
 "nbformat": 4,
 "nbformat_minor": 2
}
